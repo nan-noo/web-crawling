{
 "cells": [
  {
   "cell_type": "code",
   "execution_count": null,
   "metadata": {},
   "outputs": [],
   "source": [
    "import pandas as pd\n",
    "import numpy as np"
   ]
  },
  {
   "cell_type": "code",
   "execution_count": 2,
   "metadata": {},
   "outputs": [],
   "source": [
    "data = pd.DataFrame()\n",
    "for i in range(1, 84):\n",
    "    page = (i - 1) * 50 + 1\n",
    "    data_ = pd.read_excel(\"./crawling_data/\" + str(page) + \"_\" + str(page + 49) + \".xlsx\")\n",
    "    data_ = data_.drop(['Unnamed: 0'], axis=1)\n",
    "    #print(data_)\n",
    "    data = data.append(data_)"
   ]
  },
  {
   "cell_type": "code",
   "execution_count": 3,
   "metadata": {},
   "outputs": [
    {
     "data": {
      "text/html": [
       "<div>\n",
       "<style scoped>\n",
       "    .dataframe tbody tr th:only-of-type {\n",
       "        vertical-align: middle;\n",
       "    }\n",
       "\n",
       "    .dataframe tbody tr th {\n",
       "        vertical-align: top;\n",
       "    }\n",
       "\n",
       "    .dataframe thead th {\n",
       "        text-align: right;\n",
       "    }\n",
       "</style>\n",
       "<table border=\"1\" class=\"dataframe\">\n",
       "  <thead>\n",
       "    <tr style=\"text-align: right;\">\n",
       "      <th></th>\n",
       "      <th>id</th>\n",
       "      <th>title</th>\n",
       "      <th>date</th>\n",
       "      <th>num</th>\n",
       "      <th>contents</th>\n",
       "    </tr>\n",
       "  </thead>\n",
       "  <tbody>\n",
       "    <tr>\n",
       "      <th>0</th>\n",
       "      <td>28920</td>\n",
       "      <td>자폐아이 치료한다고 야외에서 찬물로 씻기는 **×이 학대인정 해라</td>\n",
       "      <td>2021-02-12</td>\n",
       "      <td>2,348</td>\n",
       "      <td>안녕하세요 지금 42개월 남자 아이를 키우고 있는 엄마 입니다 저희 아이는 자폐진단...</td>\n",
       "    </tr>\n",
       "    <tr>\n",
       "      <th>1</th>\n",
       "      <td>28919</td>\n",
       "      <td>교원임용 2차시험의 공정성과 투명성</td>\n",
       "      <td>2021-02-12</td>\n",
       "      <td>421</td>\n",
       "      <td>저는 2021학년도 중등임용시험에 응시한 수험생입니다.교사가 되기 위한 목표를 향해...</td>\n",
       "    </tr>\n",
       "    <tr>\n",
       "      <th>2</th>\n",
       "      <td>28918</td>\n",
       "      <td>교사 임용시험. 공정한 시험 실시 및 평가를 요구합니다.</td>\n",
       "      <td>2021-02-12</td>\n",
       "      <td>4,092</td>\n",
       "      <td>안녕하세요. 2021 중등 임용 상담(초등) 응시생입니다. '초등 임용시험 고사실의...</td>\n",
       "    </tr>\n",
       "    <tr>\n",
       "      <th>3</th>\n",
       "      <td>28917</td>\n",
       "      <td>어린이집 및 유치원 실시간 cctv 공개 의무 법안 요구</td>\n",
       "      <td>2021-02-12</td>\n",
       "      <td>963</td>\n",
       "      <td>울산 인천 등등 수없이 많은 보육기관 내 아동학대가 이루어지고 있습니다인천 어린이집...</td>\n",
       "    </tr>\n",
       "    <tr>\n",
       "      <th>4</th>\n",
       "      <td>28916</td>\n",
       "      <td>2021년 교육. 2020년과 달라야합니다.</td>\n",
       "      <td>2021-02-09</td>\n",
       "      <td>446</td>\n",
       "      <td>2020년 모두가 힘든 시기였습니다. 그러나 백년지대계인 교육이 이런 식으로 202...</td>\n",
       "    </tr>\n",
       "  </tbody>\n",
       "</table>\n",
       "</div>"
      ],
      "text/plain": [
       "      id                                 title        date    num  \\\n",
       "0  28920  자폐아이 치료한다고 야외에서 찬물로 씻기는 **×이 학대인정 해라  2021-02-12  2,348   \n",
       "1  28919                   교원임용 2차시험의 공정성과 투명성  2021-02-12    421   \n",
       "2  28918       교사 임용시험. 공정한 시험 실시 및 평가를 요구합니다.  2021-02-12  4,092   \n",
       "3  28917       어린이집 및 유치원 실시간 cctv 공개 의무 법안 요구  2021-02-12    963   \n",
       "4  28916              2021년 교육. 2020년과 달라야합니다.  2021-02-09    446   \n",
       "\n",
       "                                            contents  \n",
       "0  안녕하세요 지금 42개월 남자 아이를 키우고 있는 엄마 입니다 저희 아이는 자폐진단...  \n",
       "1  저는 2021학년도 중등임용시험에 응시한 수험생입니다.교사가 되기 위한 목표를 향해...  \n",
       "2  안녕하세요. 2021 중등 임용 상담(초등) 응시생입니다. '초등 임용시험 고사실의...  \n",
       "3  울산 인천 등등 수없이 많은 보육기관 내 아동학대가 이루어지고 있습니다인천 어린이집...  \n",
       "4  2020년 모두가 힘든 시기였습니다. 그러나 백년지대계인 교육이 이런 식으로 202...  "
      ]
     },
     "execution_count": 3,
     "metadata": {},
     "output_type": "execute_result"
    }
   ],
   "source": [
    "data.head()"
   ]
  },
  {
   "cell_type": "code",
   "execution_count": 4,
   "metadata": {},
   "outputs": [
    {
     "data": {
      "text/plain": [
       "(28482, 5)"
      ]
     },
     "execution_count": 4,
     "metadata": {},
     "output_type": "execute_result"
    }
   ],
   "source": [
    "data.shape"
   ]
  },
  {
   "cell_type": "code",
   "execution_count": 5,
   "metadata": {},
   "outputs": [],
   "source": [
    "data.to_csv('./modi_data/1_4150.csv', index=False)"
   ]
  },
  {
   "cell_type": "code",
   "execution_count": null,
   "metadata": {},
   "outputs": [],
   "source": []
  }
 ],
 "metadata": {
  "kernelspec": {
   "display_name": "Python 3",
   "language": "python",
   "name": "python3"
  },
  "language_info": {
   "codemirror_mode": {
    "name": "ipython",
    "version": 3
   },
   "file_extension": ".py",
   "mimetype": "text/x-python",
   "name": "python",
   "nbconvert_exporter": "python",
   "pygments_lexer": "ipython3",
   "version": "3.8.3"
  }
 },
 "nbformat": 4,
 "nbformat_minor": 4
}
