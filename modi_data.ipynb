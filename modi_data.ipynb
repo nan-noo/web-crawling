{
 "cells": [
  {
   "cell_type": "code",
   "execution_count": 1,
   "metadata": {},
   "outputs": [],
   "source": [
    "import pandas as pd\n",
    "import numpy as np"
   ]
  },
  {
   "cell_type": "code",
   "execution_count": 2,
   "metadata": {},
   "outputs": [
    {
     "data": {
      "text/html": [
       "<div>\n",
       "<style scoped>\n",
       "    .dataframe tbody tr th:only-of-type {\n",
       "        vertical-align: middle;\n",
       "    }\n",
       "\n",
       "    .dataframe tbody tr th {\n",
       "        vertical-align: top;\n",
       "    }\n",
       "\n",
       "    .dataframe thead th {\n",
       "        text-align: right;\n",
       "    }\n",
       "</style>\n",
       "<table border=\"1\" class=\"dataframe\">\n",
       "  <thead>\n",
       "    <tr style=\"text-align: right;\">\n",
       "      <th></th>\n",
       "      <th>id</th>\n",
       "      <th>title</th>\n",
       "      <th>date</th>\n",
       "      <th>num</th>\n",
       "      <th>contents</th>\n",
       "    </tr>\n",
       "  </thead>\n",
       "  <tbody>\n",
       "    <tr>\n",
       "      <th>0</th>\n",
       "      <td>28920</td>\n",
       "      <td>자폐아이 치료한다고 야외에서 찬물로 씻기는 **×이 학대인정 해라</td>\n",
       "      <td>2021-02-12</td>\n",
       "      <td>2,348</td>\n",
       "      <td>안녕하세요 지금 42개월 남자 아이를 키우고 있는 엄마 입니다 저희 아이는 자폐진단...</td>\n",
       "    </tr>\n",
       "    <tr>\n",
       "      <th>1</th>\n",
       "      <td>28919</td>\n",
       "      <td>교원임용 2차시험의 공정성과 투명성</td>\n",
       "      <td>2021-02-12</td>\n",
       "      <td>421</td>\n",
       "      <td>저는 2021학년도 중등임용시험에 응시한 수험생입니다.교사가 되기 위한 목표를 향해...</td>\n",
       "    </tr>\n",
       "    <tr>\n",
       "      <th>2</th>\n",
       "      <td>28918</td>\n",
       "      <td>교사 임용시험. 공정한 시험 실시 및 평가를 요구합니다.</td>\n",
       "      <td>2021-02-12</td>\n",
       "      <td>4,092</td>\n",
       "      <td>안녕하세요. 2021 중등 임용 상담(초등) 응시생입니다. '초등 임용시험 고사실의...</td>\n",
       "    </tr>\n",
       "    <tr>\n",
       "      <th>3</th>\n",
       "      <td>28917</td>\n",
       "      <td>어린이집 및 유치원 실시간 cctv 공개 의무 법안 요구</td>\n",
       "      <td>2021-02-12</td>\n",
       "      <td>963</td>\n",
       "      <td>울산 인천 등등 수없이 많은 보육기관 내 아동학대가 이루어지고 있습니다인천 어린이집...</td>\n",
       "    </tr>\n",
       "    <tr>\n",
       "      <th>4</th>\n",
       "      <td>28916</td>\n",
       "      <td>2021년 교육. 2020년과 달라야합니다.</td>\n",
       "      <td>2021-02-09</td>\n",
       "      <td>446</td>\n",
       "      <td>2020년 모두가 힘든 시기였습니다. 그러나 백년지대계인 교육이 이런 식으로 202...</td>\n",
       "    </tr>\n",
       "  </tbody>\n",
       "</table>\n",
       "</div>"
      ],
      "text/plain": [
       "      id                                 title        date    num  \\\n",
       "0  28920  자폐아이 치료한다고 야외에서 찬물로 씻기는 **×이 학대인정 해라  2021-02-12  2,348   \n",
       "1  28919                   교원임용 2차시험의 공정성과 투명성  2021-02-12    421   \n",
       "2  28918       교사 임용시험. 공정한 시험 실시 및 평가를 요구합니다.  2021-02-12  4,092   \n",
       "3  28917       어린이집 및 유치원 실시간 cctv 공개 의무 법안 요구  2021-02-12    963   \n",
       "4  28916              2021년 교육. 2020년과 달라야합니다.  2021-02-09    446   \n",
       "\n",
       "                                            contents  \n",
       "0  안녕하세요 지금 42개월 남자 아이를 키우고 있는 엄마 입니다 저희 아이는 자폐진단...  \n",
       "1  저는 2021학년도 중등임용시험에 응시한 수험생입니다.교사가 되기 위한 목표를 향해...  \n",
       "2  안녕하세요. 2021 중등 임용 상담(초등) 응시생입니다. '초등 임용시험 고사실의...  \n",
       "3  울산 인천 등등 수없이 많은 보육기관 내 아동학대가 이루어지고 있습니다인천 어린이집...  \n",
       "4  2020년 모두가 힘든 시기였습니다. 그러나 백년지대계인 교육이 이런 식으로 202...  "
      ]
     },
     "execution_count": 2,
     "metadata": {},
     "output_type": "execute_result"
    }
   ],
   "source": [
    "data = pd.read_csv(\"./modi_data/1_4150.csv\") ############\n",
    "\n",
    "data.head()"
   ]
  },
  {
   "cell_type": "code",
   "execution_count": 3,
   "metadata": {},
   "outputs": [
    {
     "data": {
      "text/html": [
       "<div>\n",
       "<style scoped>\n",
       "    .dataframe tbody tr th:only-of-type {\n",
       "        vertical-align: middle;\n",
       "    }\n",
       "\n",
       "    .dataframe tbody tr th {\n",
       "        vertical-align: top;\n",
       "    }\n",
       "\n",
       "    .dataframe thead th {\n",
       "        text-align: right;\n",
       "    }\n",
       "</style>\n",
       "<table border=\"1\" class=\"dataframe\">\n",
       "  <thead>\n",
       "    <tr style=\"text-align: right;\">\n",
       "      <th></th>\n",
       "      <th>id</th>\n",
       "      <th>title</th>\n",
       "      <th>date</th>\n",
       "      <th>num</th>\n",
       "      <th>contents</th>\n",
       "    </tr>\n",
       "  </thead>\n",
       "  <tbody>\n",
       "    <tr>\n",
       "      <th>0</th>\n",
       "      <td>28920</td>\n",
       "      <td>자폐아이 치료한다고 야외에서 찬물로 씻기는 **×이 학대인정 해라</td>\n",
       "      <td>2021-02-12</td>\n",
       "      <td>2,348</td>\n",
       "      <td>안녕하세요 지금 42개월 남자 아이를 키우고 있는 엄마 입니다 저희 아이는 자폐진단...</td>\n",
       "    </tr>\n",
       "    <tr>\n",
       "      <th>1</th>\n",
       "      <td>28919</td>\n",
       "      <td>교원임용 2차시험의 공정성과 투명성</td>\n",
       "      <td>2021-02-12</td>\n",
       "      <td>421</td>\n",
       "      <td>저는 2021학년도 중등임용시험에 응시한 수험생입니다.교사가 되기 위한 목표를 향해...</td>\n",
       "    </tr>\n",
       "    <tr>\n",
       "      <th>2</th>\n",
       "      <td>28918</td>\n",
       "      <td>교사 임용시험. 공정한 시험 실시 및 평가를 요구합니다.</td>\n",
       "      <td>2021-02-12</td>\n",
       "      <td>4,092</td>\n",
       "      <td>안녕하세요. 2021 중등 임용 상담(초등) 응시생입니다. '초등 임용시험 고사실의...</td>\n",
       "    </tr>\n",
       "    <tr>\n",
       "      <th>3</th>\n",
       "      <td>28917</td>\n",
       "      <td>어린이집 및 유치원 실시간 cctv 공개 의무 법안 요구</td>\n",
       "      <td>2021-02-12</td>\n",
       "      <td>963</td>\n",
       "      <td>울산 인천 등등 수없이 많은 보육기관 내 아동학대가 이루어지고 있습니다인천 어린이집...</td>\n",
       "    </tr>\n",
       "    <tr>\n",
       "      <th>4</th>\n",
       "      <td>28916</td>\n",
       "      <td>2021년 교육. 2020년과 달라야합니다.</td>\n",
       "      <td>2021-02-09</td>\n",
       "      <td>446</td>\n",
       "      <td>2020년 모두가 힘든 시기였습니다. 그러나 백년지대계인 교육이 이런 식으로 202...</td>\n",
       "    </tr>\n",
       "  </tbody>\n",
       "</table>\n",
       "</div>"
      ],
      "text/plain": [
       "      id                                 title        date    num  \\\n",
       "0  28920  자폐아이 치료한다고 야외에서 찬물로 씻기는 **×이 학대인정 해라  2021-02-12  2,348   \n",
       "1  28919                   교원임용 2차시험의 공정성과 투명성  2021-02-12    421   \n",
       "2  28918       교사 임용시험. 공정한 시험 실시 및 평가를 요구합니다.  2021-02-12  4,092   \n",
       "3  28917       어린이집 및 유치원 실시간 cctv 공개 의무 법안 요구  2021-02-12    963   \n",
       "4  28916              2021년 교육. 2020년과 달라야합니다.  2021-02-09    446   \n",
       "\n",
       "                                            contents  \n",
       "0  안녕하세요 지금 42개월 남자 아이를 키우고 있는 엄마 입니다 저희 아이는 자폐진단...  \n",
       "1  저는 2021학년도 중등임용시험에 응시한 수험생입니다.교사가 되기 위한 목표를 향해...  \n",
       "2  안녕하세요. 2021 중등 임용 상담(초등) 응시생입니다. '초등 임용시험 고사실의...  \n",
       "3  울산 인천 등등 수없이 많은 보육기관 내 아동학대가 이루어지고 있습니다인천 어린이집...  \n",
       "4  2020년 모두가 힘든 시기였습니다. 그러나 백년지대계인 교육이 이런 식으로 202...  "
      ]
     },
     "execution_count": 3,
     "metadata": {},
     "output_type": "execute_result"
    }
   ],
   "source": [
    "# title, contents 모두 없는 값 삭제\n",
    "data = data.dropna(subset=['title', 'contents'], how='all')\n",
    "data.head()"
   ]
  },
  {
   "cell_type": "code",
   "execution_count": 4,
   "metadata": {},
   "outputs": [
    {
     "data": {
      "text/plain": [
       "(28482, 5)"
      ]
     },
     "execution_count": 4,
     "metadata": {},
     "output_type": "execute_result"
    }
   ],
   "source": [
    "data.shape"
   ]
  },
  {
   "cell_type": "code",
   "execution_count": 5,
   "metadata": {},
   "outputs": [
    {
     "data": {
      "text/html": [
       "<div>\n",
       "<style scoped>\n",
       "    .dataframe tbody tr th:only-of-type {\n",
       "        vertical-align: middle;\n",
       "    }\n",
       "\n",
       "    .dataframe tbody tr th {\n",
       "        vertical-align: top;\n",
       "    }\n",
       "\n",
       "    .dataframe thead th {\n",
       "        text-align: right;\n",
       "    }\n",
       "</style>\n",
       "<table border=\"1\" class=\"dataframe\">\n",
       "  <thead>\n",
       "    <tr style=\"text-align: right;\">\n",
       "      <th></th>\n",
       "      <th>title</th>\n",
       "      <th>contents</th>\n",
       "    </tr>\n",
       "  </thead>\n",
       "  <tbody>\n",
       "    <tr>\n",
       "      <th>0</th>\n",
       "      <td>자폐아이 치료한다고 야외에서 찬물로 씻기는 **×이 학대인정 해라</td>\n",
       "      <td>안녕하세요 지금 42개월 남자 아이를 키우고 있는 엄마 입니다 저희 아이는 자폐진단...</td>\n",
       "    </tr>\n",
       "    <tr>\n",
       "      <th>1</th>\n",
       "      <td>교원임용 2차시험의 공정성과 투명성</td>\n",
       "      <td>저는 2021학년도 중등임용시험에 응시한 수험생입니다.교사가 되기 위한 목표를 향해...</td>\n",
       "    </tr>\n",
       "    <tr>\n",
       "      <th>2</th>\n",
       "      <td>교사 임용시험. 공정한 시험 실시 및 평가를 요구합니다.</td>\n",
       "      <td>안녕하세요. 2021 중등 임용 상담(초등) 응시생입니다. '초등 임용시험 고사실의...</td>\n",
       "    </tr>\n",
       "    <tr>\n",
       "      <th>3</th>\n",
       "      <td>어린이집 및 유치원 실시간 cctv 공개 의무 법안 요구</td>\n",
       "      <td>울산 인천 등등 수없이 많은 보육기관 내 아동학대가 이루어지고 있습니다인천 어린이집...</td>\n",
       "    </tr>\n",
       "    <tr>\n",
       "      <th>4</th>\n",
       "      <td>2021년 교육. 2020년과 달라야합니다.</td>\n",
       "      <td>2020년 모두가 힘든 시기였습니다. 그러나 백년지대계인 교육이 이런 식으로 202...</td>\n",
       "    </tr>\n",
       "  </tbody>\n",
       "</table>\n",
       "</div>"
      ],
      "text/plain": [
       "                                  title  \\\n",
       "0  자폐아이 치료한다고 야외에서 찬물로 씻기는 **×이 학대인정 해라   \n",
       "1                   교원임용 2차시험의 공정성과 투명성   \n",
       "2       교사 임용시험. 공정한 시험 실시 및 평가를 요구합니다.   \n",
       "3       어린이집 및 유치원 실시간 cctv 공개 의무 법안 요구   \n",
       "4              2021년 교육. 2020년과 달라야합니다.   \n",
       "\n",
       "                                            contents  \n",
       "0  안녕하세요 지금 42개월 남자 아이를 키우고 있는 엄마 입니다 저희 아이는 자폐진단...  \n",
       "1  저는 2021학년도 중등임용시험에 응시한 수험생입니다.교사가 되기 위한 목표를 향해...  \n",
       "2  안녕하세요. 2021 중등 임용 상담(초등) 응시생입니다. '초등 임용시험 고사실의...  \n",
       "3  울산 인천 등등 수없이 많은 보육기관 내 아동학대가 이루어지고 있습니다인천 어린이집...  \n",
       "4  2020년 모두가 힘든 시기였습니다. 그러나 백년지대계인 교육이 이런 식으로 202...  "
      ]
     },
     "execution_count": 5,
     "metadata": {},
     "output_type": "execute_result"
    }
   ],
   "source": [
    "filtered_data = data.drop(columns=['id', 'date', 'num'])\n",
    "filtered_data = filtered_data.fillna(' ') #공백으로 바꾸기\n",
    "filtered_data.head()"
   ]
  },
  {
   "cell_type": "code",
   "execution_count": 6,
   "metadata": {},
   "outputs": [
    {
     "data": {
      "text/html": [
       "<div>\n",
       "<style scoped>\n",
       "    .dataframe tbody tr th:only-of-type {\n",
       "        vertical-align: middle;\n",
       "    }\n",
       "\n",
       "    .dataframe tbody tr th {\n",
       "        vertical-align: top;\n",
       "    }\n",
       "\n",
       "    .dataframe thead th {\n",
       "        text-align: right;\n",
       "    }\n",
       "</style>\n",
       "<table border=\"1\" class=\"dataframe\">\n",
       "  <thead>\n",
       "    <tr style=\"text-align: right;\">\n",
       "      <th></th>\n",
       "      <th>id</th>\n",
       "      <th>title</th>\n",
       "      <th>date</th>\n",
       "      <th>num</th>\n",
       "      <th>full_data</th>\n",
       "    </tr>\n",
       "  </thead>\n",
       "  <tbody>\n",
       "    <tr>\n",
       "      <th>0</th>\n",
       "      <td>28920</td>\n",
       "      <td>자폐아이 치료한다고 야외에서 찬물로 씻기는 **×이 학대인정 해라</td>\n",
       "      <td>2021-02-12</td>\n",
       "      <td>2,348</td>\n",
       "      <td>자폐아이 치료한다고 야외에서 찬물로 씻기는 **×이 학대인정 해라 안녕하세요 지금 ...</td>\n",
       "    </tr>\n",
       "    <tr>\n",
       "      <th>1</th>\n",
       "      <td>28919</td>\n",
       "      <td>교원임용 2차시험의 공정성과 투명성</td>\n",
       "      <td>2021-02-12</td>\n",
       "      <td>421</td>\n",
       "      <td>교원임용 2차시험의 공정성과 투명성 저는 2021학년도 중등임용시험에 응시한 수험생...</td>\n",
       "    </tr>\n",
       "    <tr>\n",
       "      <th>2</th>\n",
       "      <td>28918</td>\n",
       "      <td>교사 임용시험. 공정한 시험 실시 및 평가를 요구합니다.</td>\n",
       "      <td>2021-02-12</td>\n",
       "      <td>4,092</td>\n",
       "      <td>교사 임용시험. 공정한 시험 실시 및 평가를 요구합니다. 안녕하세요. 2021 중등...</td>\n",
       "    </tr>\n",
       "    <tr>\n",
       "      <th>3</th>\n",
       "      <td>28917</td>\n",
       "      <td>어린이집 및 유치원 실시간 cctv 공개 의무 법안 요구</td>\n",
       "      <td>2021-02-12</td>\n",
       "      <td>963</td>\n",
       "      <td>어린이집 및 유치원 실시간 cctv 공개 의무 법안 요구 울산 인천 등등 수없이 많...</td>\n",
       "    </tr>\n",
       "    <tr>\n",
       "      <th>4</th>\n",
       "      <td>28916</td>\n",
       "      <td>2021년 교육. 2020년과 달라야합니다.</td>\n",
       "      <td>2021-02-09</td>\n",
       "      <td>446</td>\n",
       "      <td>2021년 교육. 2020년과 달라야합니다. 2020년 모두가 힘든 시기였습니다. ...</td>\n",
       "    </tr>\n",
       "  </tbody>\n",
       "</table>\n",
       "</div>"
      ],
      "text/plain": [
       "      id                                 title        date    num  \\\n",
       "0  28920  자폐아이 치료한다고 야외에서 찬물로 씻기는 **×이 학대인정 해라  2021-02-12  2,348   \n",
       "1  28919                   교원임용 2차시험의 공정성과 투명성  2021-02-12    421   \n",
       "2  28918       교사 임용시험. 공정한 시험 실시 및 평가를 요구합니다.  2021-02-12  4,092   \n",
       "3  28917       어린이집 및 유치원 실시간 cctv 공개 의무 법안 요구  2021-02-12    963   \n",
       "4  28916              2021년 교육. 2020년과 달라야합니다.  2021-02-09    446   \n",
       "\n",
       "                                           full_data  \n",
       "0  자폐아이 치료한다고 야외에서 찬물로 씻기는 **×이 학대인정 해라 안녕하세요 지금 ...  \n",
       "1  교원임용 2차시험의 공정성과 투명성 저는 2021학년도 중등임용시험에 응시한 수험생...  \n",
       "2  교사 임용시험. 공정한 시험 실시 및 평가를 요구합니다. 안녕하세요. 2021 중등...  \n",
       "3  어린이집 및 유치원 실시간 cctv 공개 의무 법안 요구 울산 인천 등등 수없이 많...  \n",
       "4  2021년 교육. 2020년과 달라야합니다. 2020년 모두가 힘든 시기였습니다. ...  "
      ]
     },
     "execution_count": 6,
     "metadata": {},
     "output_type": "execute_result"
    }
   ],
   "source": [
    "# title + contents\n",
    "final_data = data.drop(columns=['contents'])\n",
    "final_data['full_data'] = filtered_data['title'] + \" \" + filtered_data['contents']\n",
    "\n",
    "final_data.head()"
   ]
  },
  {
   "cell_type": "code",
   "execution_count": 7,
   "metadata": {},
   "outputs": [
    {
     "data": {
      "text/html": [
       "<div>\n",
       "<style scoped>\n",
       "    .dataframe tbody tr th:only-of-type {\n",
       "        vertical-align: middle;\n",
       "    }\n",
       "\n",
       "    .dataframe tbody tr th {\n",
       "        vertical-align: top;\n",
       "    }\n",
       "\n",
       "    .dataframe thead th {\n",
       "        text-align: right;\n",
       "    }\n",
       "</style>\n",
       "<table border=\"1\" class=\"dataframe\">\n",
       "  <thead>\n",
       "    <tr style=\"text-align: right;\">\n",
       "      <th></th>\n",
       "      <th>id</th>\n",
       "      <th>title</th>\n",
       "      <th>date</th>\n",
       "      <th>num</th>\n",
       "      <th>full_data</th>\n",
       "    </tr>\n",
       "  </thead>\n",
       "  <tbody>\n",
       "    <tr>\n",
       "      <th>0</th>\n",
       "      <td>28920</td>\n",
       "      <td>자폐아이 치료한다고 야외에서 찬물로 씻기는 **×이 학대인정 해라</td>\n",
       "      <td>2021-02-12</td>\n",
       "      <td>2,348</td>\n",
       "      <td>자폐아이 치료한다고 야외에서 찬물로 씻기는 **×이 학대인정 해라 안녕하세요 지금 ...</td>\n",
       "    </tr>\n",
       "    <tr>\n",
       "      <th>1</th>\n",
       "      <td>28919</td>\n",
       "      <td>교원임용 2차시험의 공정성과 투명성</td>\n",
       "      <td>2021-02-12</td>\n",
       "      <td>421</td>\n",
       "      <td>교원임용 2차시험의 공정성과 투명성 저는 2021학년도 중등임용시험에 응시한 수험생...</td>\n",
       "    </tr>\n",
       "    <tr>\n",
       "      <th>2</th>\n",
       "      <td>28918</td>\n",
       "      <td>교사 임용시험. 공정한 시험 실시 및 평가를 요구합니다.</td>\n",
       "      <td>2021-02-12</td>\n",
       "      <td>4,092</td>\n",
       "      <td>교사 임용시험. 공정한 시험 실시 및 평가를 요구합니다. 안녕하세요. 2021 중등...</td>\n",
       "    </tr>\n",
       "    <tr>\n",
       "      <th>3</th>\n",
       "      <td>28917</td>\n",
       "      <td>어린이집 및 유치원 실시간 cctv 공개 의무 법안 요구</td>\n",
       "      <td>2021-02-12</td>\n",
       "      <td>963</td>\n",
       "      <td>어린이집 및 유치원 실시간 cctv 공개 의무 법안 요구 울산 인천 등등 수없이 많...</td>\n",
       "    </tr>\n",
       "    <tr>\n",
       "      <th>4</th>\n",
       "      <td>28916</td>\n",
       "      <td>2021년 교육. 2020년과 달라야합니다.</td>\n",
       "      <td>2021-02-09</td>\n",
       "      <td>446</td>\n",
       "      <td>2021년 교육. 2020년과 달라야합니다. 2020년 모두가 힘든 시기였습니다. ...</td>\n",
       "    </tr>\n",
       "  </tbody>\n",
       "</table>\n",
       "</div>"
      ],
      "text/plain": [
       "      id                                 title        date    num  \\\n",
       "0  28920  자폐아이 치료한다고 야외에서 찬물로 씻기는 **×이 학대인정 해라  2021-02-12  2,348   \n",
       "1  28919                   교원임용 2차시험의 공정성과 투명성  2021-02-12    421   \n",
       "2  28918       교사 임용시험. 공정한 시험 실시 및 평가를 요구합니다.  2021-02-12  4,092   \n",
       "3  28917       어린이집 및 유치원 실시간 cctv 공개 의무 법안 요구  2021-02-12    963   \n",
       "4  28916              2021년 교육. 2020년과 달라야합니다.  2021-02-09    446   \n",
       "\n",
       "                                           full_data  \n",
       "0  자폐아이 치료한다고 야외에서 찬물로 씻기는 **×이 학대인정 해라 안녕하세요 지금 ...  \n",
       "1  교원임용 2차시험의 공정성과 투명성 저는 2021학년도 중등임용시험에 응시한 수험생...  \n",
       "2  교사 임용시험. 공정한 시험 실시 및 평가를 요구합니다. 안녕하세요. 2021 중등...  \n",
       "3  어린이집 및 유치원 실시간 cctv 공개 의무 법안 요구 울산 인천 등등 수없이 많...  \n",
       "4  2021년 교육. 2020년과 달라야합니다. 2020년 모두가 힘든 시기였습니다. ...  "
      ]
     },
     "execution_count": 7,
     "metadata": {},
     "output_type": "execute_result"
    }
   ],
   "source": [
    "final_data = final_data.reset_index(drop = True)\n",
    "final_data.head()"
   ]
  },
  {
   "cell_type": "code",
   "execution_count": 8,
   "metadata": {},
   "outputs": [
    {
     "data": {
      "text/plain": [
       "(28482, 5)"
      ]
     },
     "execution_count": 8,
     "metadata": {},
     "output_type": "execute_result"
    }
   ],
   "source": [
    "final_data.shape"
   ]
  },
  {
   "cell_type": "code",
   "execution_count": 9,
   "metadata": {},
   "outputs": [],
   "source": [
    "final_data.to_csv('./modi_data/full_data.csv', index=False)"
   ]
  },
  {
   "cell_type": "code",
   "execution_count": 10,
   "metadata": {},
   "outputs": [
    {
     "name": "stdout",
     "output_type": "stream",
     "text": [
      "===finish====\n"
     ]
    }
   ],
   "source": [
    "# 연도별 저장\n",
    "df = pd.DataFrame()\n",
    "\n",
    "for i in range(2017, 2022):\n",
    "    for j in range(28482):\n",
    "        date = final_data.loc[j, 'date']\n",
    "        #print(date[:4]) #year\n",
    "        if int(date[:4]) == i:\n",
    "            df = df.append(final_data.loc[j])\n",
    "            #print(final_data.loc[j])\n",
    "    #if not df.empty: print(df)\n",
    "    if not df.empty: df.to_csv('./modi_data/data_' + str(i) + '.csv', index=False)\n",
    "    df = pd.DataFrame()\n",
    "print(\"===finish====\")"
   ]
  },
  {
   "cell_type": "code",
   "execution_count": null,
   "metadata": {},
   "outputs": [],
   "source": []
  }
 ],
 "metadata": {
  "kernelspec": {
   "display_name": "Python 3",
   "language": "python",
   "name": "python3"
  },
  "language_info": {
   "codemirror_mode": {
    "name": "ipython",
    "version": 3
   },
   "file_extension": ".py",
   "mimetype": "text/x-python",
   "name": "python",
   "nbconvert_exporter": "python",
   "pygments_lexer": "ipython3",
   "version": "3.8.3"
  }
 },
 "nbformat": 4,
 "nbformat_minor": 4
}
